{
 "cells": [
  {
   "cell_type": "code",
   "execution_count": 79,
   "metadata": {},
   "outputs": [],
   "source": [
    "import pandas as pd\n",
    "import csv\n",
    "\n",
    "df = pd.read_csv('filteredDataWithPosition.csv')\n"
   ]
  },
  {
   "cell_type": "code",
   "execution_count": 80,
   "metadata": {},
   "outputs": [],
   "source": [
    "image_dict = {}\n",
    "\n",
    "for index, row in df.iterrows():\n",
    "    image_id = row['image_id']\n",
    "    category_name = row['categoryName']\n",
    "    position_name = row['positionName']\n",
    "    \n",
    "    if image_id not in image_dict:\n",
    "        image_dict[image_id] = []\n",
    "    \n",
    "    image_dict[image_id].append((category_name, position_name))\n"
   ]
  },
  {
   "cell_type": "code",
   "execution_count": 81,
   "metadata": {},
   "outputs": [
    {
     "name": "stdout",
     "output_type": "stream",
     "text": [
      "289343 [('dog', 'middleRight'), ('person', 'middleCenter'), ('bench', 'bottomLeft'), ('bicycle', 'middleCenter')]\n",
      "61471 [('dog', 'bottomCenter'), ('bottle', 'topLeft'), ('toilet', 'topCenter')]\n",
      "472375 [('dog', 'middleCenter'), ('motorcycle', 'middleCenter')]\n",
      "520301 [('dog', 'middleCenter')]\n",
      "4109\n"
     ]
    }
   ],
   "source": [
    "ct = 0\n",
    "for k, v in image_dict.items():\n",
    "    ct += 1\n",
    "    print(k, v)\n",
    "    if ct == 4:\n",
    "        break\n",
    "\n",
    "\n",
    "print(len(image_dict))"
   ]
  },
  {
   "cell_type": "code",
   "execution_count": 82,
   "metadata": {},
   "outputs": [],
   "source": [
    "def constructQuestionAndAnswer(obj1, pos1, variationNum):\n",
    "    questionList = [\n",
    "        f\"Where is the {obj1} located in the image?\",\n",
    "        f\"What is the position of the {obj1} in the image?\",\n",
    "        f\"Can you tell me where the {obj1} is in the picture?\",\n",
    "        f\"Describe the location of the {obj1} in the image.\",\n",
    "        f\"Locate the {obj1} in the image.\",\n",
    "        f\"Identify the position of the {obj1} in the picture.\",\n",
    "        f\"Where can I find the {obj1} in the image?\",\n",
    "        f\"Point out the location of the {obj1}.\",\n",
    "        f\"Tell me about the placement of the {obj1} in the image.\",\n",
    "        f\"Give me the whereabouts of the {obj1} in the picture.\",\n",
    "        f\"Specify the position of the {obj1} in the image.\",\n",
    "        f\"Elaborate on the whereabouts of the {obj1} in the picture.\",\n",
    "        f\"In which part of the image is the {obj1} situated?\",\n",
    "        f\"Pinpoint the location of the {obj1} in the image.\",\n",
    "        f\"Describe where the {obj1} is placed in the picture.\",\n",
    "        f\"Locate the the {obj1} within the image.\",\n",
    "        f\"Indicate the position of the {obj1} in the picture.\",\n",
    "        f\"Describe the spatial location of the {obj1} in the image.\",\n",
    "        f\"Identify the location of the {obj1} in the picture.\",\n",
    "        f\"Specify the exact position of the {obj1} in the image.\",\n",
    "        f\"Tell me about the spatial position of the {obj1} in the picture.\",\n",
    "        f\"What quadrant is the {obj1} in the image?\",\n",
    "        f\"Which area of the image is the {obj1} located in?\",\n",
    "        f\"Tell me the spot where the {obj1} is placed in the picture.\",\n",
    "        f\"Provide information about the location of the {obj1} in the image.\",\n",
    "        f\"Identify the general area where the {obj1} is located in the picture.\",\n",
    "        f\"Elaborate on the general whereabouts of the {obj1} in the picture.\",\n",
    "        f\"Tell me about the placement of the {obj1} in the image.\"\n",
    "        ]\n",
    "\n",
    "    \n",
    "    variationNum = variationNum % len(questionList)\n",
    "    answer = f\"The {obj1} is located at the {pos1} of the image.\"\n",
    "    return questionList[variationNum], answer\n",
    "\n",
    "def combine2QuestionsAndAnswers(q1, a1, q2, a2, obj1, obj2):\n",
    "    combinations = []\n",
    "    fixedAnswer = a1[:-1] + ' and ' + a2[0].lower() + a2[1:]\n",
    "    combinations.append( (q1[:-1] + ' and ' + q2[0].lower() + q2[1:], fixedAnswer))\n",
    "    q1 = q1.replace(obj1, obj1 + \" and the \" + obj2)\n",
    "    q1 = q1.replace(\" is \", \" are \")\n",
    "    combinations.append( (q1, fixedAnswer))\n",
    "    return combinations\n",
    "\n",
    "\n",
    "        "
   ]
  },
  {
   "cell_type": "code",
   "execution_count": 83,
   "metadata": {},
   "outputs": [
    {
     "name": "stdout",
     "output_type": "stream",
     "text": [
      "54874 questions and answers generated.\n"
     ]
    }
   ],
   "source": [
    "questionsAndAnswers = []\n",
    "varNum = 0\n",
    "for k, v in image_dict.items():\n",
    "    if len(v) == 1:\n",
    "        obj1, pos1 = v[0]\n",
    "        q, a = constructQuestionAndAnswer(obj1, pos1, varNum)\n",
    "        questionsAndAnswers.append((k, q, a))\n",
    "        varNum += 1\n",
    "    else:\n",
    "        for i in range(len(v)-1):\n",
    "            obj1, pos1 = v[i]\n",
    "            obj2, pos2 = v[i+1]\n",
    "            variationsNeeded = 3\n",
    "            for j in range(variationsNeeded):\n",
    "                q1, a1 = constructQuestionAndAnswer(obj1, pos1, varNum)\n",
    "                q2, a2 = constructQuestionAndAnswer(obj2, pos2, varNum%11 + varNum%7)\n",
    "                questionsAndAnswers.append((k, q1, a1))\n",
    "                questionsAndAnswers.append((k, q2, a2))\n",
    "                qAndAs = combine2QuestionsAndAnswers(q1, a1, q2, a2, obj1, obj2)\n",
    "                for q, a in qAndAs:\n",
    "                    questionsAndAnswers.append((k, q, a))\n",
    "                varNum += 1\n",
    "            \n",
    "print(f\"{len(questionsAndAnswers)} questions and answers generated.\")"
   ]
  },
  {
   "cell_type": "code",
   "execution_count": 84,
   "metadata": {},
   "outputs": [
    {
     "data": {
      "text/plain": [
       "[(0,\n",
       "  289343,\n",
       "  'Where is the dog located in the image?',\n",
       "  'The dog is located at the middleRight of the image.'),\n",
       " (1,\n",
       "  289343,\n",
       "  'Where is the person located in the image?',\n",
       "  'The person is located at the middleCenter of the image.'),\n",
       " (2,\n",
       "  289343,\n",
       "  'Where is the dog located in the image and where is the person located in the image?',\n",
       "  'The dog is located at the middleRight of the image and the person is located at the middleCenter of the image.'),\n",
       " (3,\n",
       "  289343,\n",
       "  'Where are the dog and the person located in the image?',\n",
       "  'The dog is located at the middleRight of the image and the person is located at the middleCenter of the image.'),\n",
       " (4,\n",
       "  289343,\n",
       "  'What is the position of the dog in the image?',\n",
       "  'The dog is located at the middleRight of the image.'),\n",
       " (5,\n",
       "  289343,\n",
       "  'Can you tell me where the person is in the picture?',\n",
       "  'The person is located at the middleCenter of the image.'),\n",
       " (6,\n",
       "  289343,\n",
       "  'What is the position of the dog in the image and can you tell me where the person is in the picture?',\n",
       "  'The dog is located at the middleRight of the image and the person is located at the middleCenter of the image.'),\n",
       " (7,\n",
       "  289343,\n",
       "  'What are the position of the dog and the person in the image?',\n",
       "  'The dog is located at the middleRight of the image and the person is located at the middleCenter of the image.'),\n",
       " (8,\n",
       "  289343,\n",
       "  'Can you tell me where the dog is in the picture?',\n",
       "  'The dog is located at the middleRight of the image.'),\n",
       " (9,\n",
       "  289343,\n",
       "  'Locate the person in the image.',\n",
       "  'The person is located at the middleCenter of the image.')]"
      ]
     },
     "execution_count": 84,
     "metadata": {},
     "output_type": "execute_result"
    }
   ],
   "source": [
    "for i in range(len(questionsAndAnswers)):\n",
    "    questionsAndAnswers[i] = (i,) + questionsAndAnswers[i]\n",
    "\n",
    "questionsAndAnswers[:10]"
   ]
  },
  {
   "cell_type": "code",
   "execution_count": 85,
   "metadata": {},
   "outputs": [
    {
     "name": "stdout",
     "output_type": "stream",
     "text": [
      "Questions and answers saved to nlp_coco_questions_and_answers.csv.\n"
     ]
    }
   ],
   "source": [
    "\n",
    "filename = 'nlp_coco_questions_and_answers.csv'\n",
    "delimiter = '|'\n",
    "\n",
    "with open(filename, 'w', newline='') as file:\n",
    "    writer = csv.writer(file, delimiter=delimiter)\n",
    "    writer.writerow(['id', 'image_id', 'question', 'answer'])\n",
    "    writer.writerows(questionsAndAnswers)\n",
    "\n",
    "print(f\"Questions and answers saved to {filename}.\")\n"
   ]
  }
 ],
 "metadata": {
  "kernelspec": {
   "display_name": "Python 3",
   "language": "python",
   "name": "python3"
  },
  "language_info": {
   "codemirror_mode": {
    "name": "ipython",
    "version": 3
   },
   "file_extension": ".py",
   "mimetype": "text/x-python",
   "name": "python",
   "nbconvert_exporter": "python",
   "pygments_lexer": "ipython3",
   "version": "3.11.5"
  }
 },
 "nbformat": 4,
 "nbformat_minor": 2
}
